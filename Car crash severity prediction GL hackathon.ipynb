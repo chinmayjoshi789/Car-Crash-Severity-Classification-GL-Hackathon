{
 "cells": [
  {
   "cell_type": "code",
   "execution_count": 12,
   "metadata": {},
   "outputs": [],
   "source": [
    "import numpy as np\n",
    "import pandas as pd\n",
    "import seaborn as sns\n",
    "import matplotlib.pyplot as plt\n",
    "import scipy.stats as st\n",
    "from sklearn.model_selection import train_test_split,KFold,StratifiedKFold,GridSearchCV,RandomizedSearchCV,cross_val_score\n",
    "from sklearn.ensemble import RandomForestClassifier,BaggingClassifier,AdaBoostClassifier,GradientBoostingClassifier,RandomForestRegressor,BaggingRegressor,AdaBoostRegressor,GradientBoostingRegressor\n",
    "from sklearn.linear_model import LinearRegression,LogisticRegression,Lasso, Ridge\n",
    "from sklearn.tree import DecisionTreeClassifier,DecisionTreeRegressor\n",
    "from sklearn.naive_bayes import GaussianNB\n",
    "from sklearn.neighbors import KNeighborsClassifier,KNeighborsRegressor\n",
    "import sklearn.metrics as metrics\n",
    "from sklearn.metrics import r2_score,roc_auc_score,classification_report,mean_squared_error,accuracy_score,confusion_matrix\n",
    "import warnings\n",
    "warnings.filterwarnings('ignore')"
   ]
  },
  {
   "cell_type": "code",
   "execution_count": 24,
   "metadata": {},
   "outputs": [],
   "source": [
    "df=pd.read_csv('D:/GLH/train-new.csv')"
   ]
  },
  {
   "cell_type": "code",
   "execution_count": 25,
   "metadata": {},
   "outputs": [],
   "source": [
    "df1=df.copy()"
   ]
  },
  {
   "cell_type": "code",
   "execution_count": 27,
   "metadata": {},
   "outputs": [
    {
     "data": {
      "text/plain": [
       "(17565, 15)"
      ]
     },
     "execution_count": 27,
     "metadata": {},
     "output_type": "execute_result"
    }
   ],
   "source": [
    "df1.shape"
   ]
  },
  {
   "cell_type": "code",
   "execution_count": 26,
   "metadata": {
    "scrolled": true
   },
   "outputs": [
    {
     "data": {
      "text/plain": [
       "dvcat          0\n",
       "weight         0\n",
       "dead           0\n",
       "airbag         0\n",
       "seatbelt       0\n",
       "frontal        0\n",
       "sex            0\n",
       "ageOFocc       0\n",
       "yearacc        0\n",
       "yearVeh        0\n",
       "abcat          0\n",
       "occRole        0\n",
       "deploy         0\n",
       "caseid         0\n",
       "injSeverity    0\n",
       "dtype: int64"
      ]
     },
     "execution_count": 26,
     "metadata": {},
     "output_type": "execute_result"
    }
   ],
   "source": [
    "df1.isnull().sum()"
   ]
  },
  {
   "cell_type": "code",
   "execution_count": 28,
   "metadata": {},
   "outputs": [
    {
     "name": "stdout",
     "output_type": "stream",
     "text": [
      "<class 'pandas.core.frame.DataFrame'>\n",
      "RangeIndex: 17565 entries, 0 to 17564\n",
      "Data columns (total 15 columns):\n",
      " #   Column       Non-Null Count  Dtype  \n",
      "---  ------       --------------  -----  \n",
      " 0   dvcat        17565 non-null  object \n",
      " 1   weight       17565 non-null  float64\n",
      " 2   dead         17565 non-null  object \n",
      " 3   airbag       17565 non-null  object \n",
      " 4   seatbelt     17565 non-null  object \n",
      " 5   frontal      17565 non-null  int64  \n",
      " 6   sex          17565 non-null  object \n",
      " 7   ageOFocc     17565 non-null  int64  \n",
      " 8   yearacc      17565 non-null  int64  \n",
      " 9   yearVeh      17565 non-null  int64  \n",
      " 10  abcat        17565 non-null  object \n",
      " 11  occRole      17565 non-null  object \n",
      " 12  deploy       17565 non-null  int64  \n",
      " 13  caseid       17565 non-null  object \n",
      " 14  injSeverity  17565 non-null  int64  \n",
      "dtypes: float64(1), int64(6), object(8)\n",
      "memory usage: 2.0+ MB\n"
     ]
    }
   ],
   "source": [
    "df1.info()"
   ]
  },
  {
   "cell_type": "code",
   "execution_count": 30,
   "metadata": {
    "scrolled": true
   },
   "outputs": [
    {
     "data": {
      "text/html": [
       "<div>\n",
       "<style scoped>\n",
       "    .dataframe tbody tr th:only-of-type {\n",
       "        vertical-align: middle;\n",
       "    }\n",
       "\n",
       "    .dataframe tbody tr th {\n",
       "        vertical-align: top;\n",
       "    }\n",
       "\n",
       "    .dataframe thead th {\n",
       "        text-align: right;\n",
       "    }\n",
       "</style>\n",
       "<table border=\"1\" class=\"dataframe\">\n",
       "  <thead>\n",
       "    <tr style=\"text-align: right;\">\n",
       "      <th></th>\n",
       "      <th>dvcat</th>\n",
       "      <th>weight</th>\n",
       "      <th>dead</th>\n",
       "      <th>airbag</th>\n",
       "      <th>seatbelt</th>\n",
       "      <th>frontal</th>\n",
       "      <th>sex</th>\n",
       "      <th>ageOFocc</th>\n",
       "      <th>yearacc</th>\n",
       "      <th>yearVeh</th>\n",
       "      <th>abcat</th>\n",
       "      <th>occRole</th>\n",
       "      <th>deploy</th>\n",
       "      <th>caseid</th>\n",
       "      <th>injSeverity</th>\n",
       "    </tr>\n",
       "  </thead>\n",
       "  <tbody>\n",
       "    <tr>\n",
       "      <th>0</th>\n",
       "      <td>55+</td>\n",
       "      <td>53.342</td>\n",
       "      <td>dead</td>\n",
       "      <td>airbag</td>\n",
       "      <td>belted</td>\n",
       "      <td>1</td>\n",
       "      <td>f</td>\n",
       "      <td>48</td>\n",
       "      <td>2002</td>\n",
       "      <td>1997</td>\n",
       "      <td>deploy</td>\n",
       "      <td>driver</td>\n",
       "      <td>1</td>\n",
       "      <td>45:150:1</td>\n",
       "      <td>3</td>\n",
       "    </tr>\n",
       "    <tr>\n",
       "      <th>1</th>\n",
       "      <td>25-39</td>\n",
       "      <td>154.960</td>\n",
       "      <td>alive</td>\n",
       "      <td>none</td>\n",
       "      <td>none</td>\n",
       "      <td>1</td>\n",
       "      <td>m</td>\n",
       "      <td>26</td>\n",
       "      <td>2001</td>\n",
       "      <td>1968</td>\n",
       "      <td>unavail</td>\n",
       "      <td>driver</td>\n",
       "      <td>0</td>\n",
       "      <td>76:40:1</td>\n",
       "      <td>3</td>\n",
       "    </tr>\n",
       "    <tr>\n",
       "      <th>2</th>\n",
       "      <td>55+</td>\n",
       "      <td>38.994</td>\n",
       "      <td>alive</td>\n",
       "      <td>none</td>\n",
       "      <td>none</td>\n",
       "      <td>1</td>\n",
       "      <td>f</td>\n",
       "      <td>51</td>\n",
       "      <td>2002</td>\n",
       "      <td>1994</td>\n",
       "      <td>unavail</td>\n",
       "      <td>driver</td>\n",
       "      <td>0</td>\n",
       "      <td>11:184:1</td>\n",
       "      <td>3</td>\n",
       "    </tr>\n",
       "    <tr>\n",
       "      <th>3</th>\n",
       "      <td>25-39</td>\n",
       "      <td>168.568</td>\n",
       "      <td>alive</td>\n",
       "      <td>airbag</td>\n",
       "      <td>belted</td>\n",
       "      <td>1</td>\n",
       "      <td>m</td>\n",
       "      <td>27</td>\n",
       "      <td>1998</td>\n",
       "      <td>1996</td>\n",
       "      <td>deploy</td>\n",
       "      <td>pass</td>\n",
       "      <td>1</td>\n",
       "      <td>9:17:1</td>\n",
       "      <td>3</td>\n",
       "    </tr>\n",
       "    <tr>\n",
       "      <th>4</th>\n",
       "      <td>10-24</td>\n",
       "      <td>27.751</td>\n",
       "      <td>alive</td>\n",
       "      <td>airbag</td>\n",
       "      <td>belted</td>\n",
       "      <td>0</td>\n",
       "      <td>m</td>\n",
       "      <td>26</td>\n",
       "      <td>2002</td>\n",
       "      <td>1997</td>\n",
       "      <td>nodeploy</td>\n",
       "      <td>pass</td>\n",
       "      <td>0</td>\n",
       "      <td>2:2:2</td>\n",
       "      <td>0</td>\n",
       "    </tr>\n",
       "  </tbody>\n",
       "</table>\n",
       "</div>"
      ],
      "text/plain": [
       "   dvcat   weight   dead  airbag seatbelt  frontal sex  ageOFocc  yearacc  \\\n",
       "0    55+   53.342   dead  airbag   belted        1   f        48     2002   \n",
       "1  25-39  154.960  alive    none     none        1   m        26     2001   \n",
       "2    55+   38.994  alive    none     none        1   f        51     2002   \n",
       "3  25-39  168.568  alive  airbag   belted        1   m        27     1998   \n",
       "4  10-24   27.751  alive  airbag   belted        0   m        26     2002   \n",
       "\n",
       "   yearVeh     abcat occRole  deploy    caseid  injSeverity  \n",
       "0     1997    deploy  driver       1  45:150:1            3  \n",
       "1     1968   unavail  driver       0   76:40:1            3  \n",
       "2     1994   unavail  driver       0  11:184:1            3  \n",
       "3     1996    deploy    pass       1    9:17:1            3  \n",
       "4     1997  nodeploy    pass       0     2:2:2            0  "
      ]
     },
     "execution_count": 30,
     "metadata": {},
     "output_type": "execute_result"
    }
   ],
   "source": [
    "df1.head()"
   ]
  },
  {
   "cell_type": "code",
   "execution_count": 31,
   "metadata": {},
   "outputs": [
    {
     "data": {
      "text/plain": [
       "array(['55+', '25-39', '10-24', '40-54', '1-9km/h'], dtype=object)"
      ]
     },
     "execution_count": 31,
     "metadata": {},
     "output_type": "execute_result"
    }
   ],
   "source": [
    "df1['dvcat'].unique()"
   ]
  },
  {
   "cell_type": "code",
   "execution_count": 43,
   "metadata": {},
   "outputs": [],
   "source": [
    "# convert impacted speeds.\n",
    "# df1['dvcat'].replace({'1-9km/h':'low impact','10-24':'medium impact','25-39':'high impact',\n",
    "#                       '40-54':'high impact',\n",
    "#                      '55+':'critical impact'})\n",
    "df1['dvcat'].replace({'1-9km/h':1,'10-24':2,'25-39':3,\n",
    "                      '40-54':4,\n",
    "                     '55+':5},inplace=True)"
   ]
  },
  {
   "cell_type": "code",
   "execution_count": 52,
   "metadata": {},
   "outputs": [],
   "source": [
    "# weight is already in continuous numeric,so we wont touch it.\n",
    "# frontal is already in encoded format,so we wont touch it.\n",
    "# 'caseid' 1st drop it,then try keeping it"
   ]
  },
  {
   "cell_type": "code",
   "execution_count": 60,
   "metadata": {},
   "outputs": [],
   "source": [
    "# only 2 catgories in dead feature,so we can label encode or manually encode:\n",
    "df1['dead'].replace({'dead':0,'alive':1},inplace=True)"
   ]
  },
  {
   "cell_type": "code",
   "execution_count": 64,
   "metadata": {},
   "outputs": [],
   "source": [
    "# only 2 categories in airbag feature,again,so we can label encode or manually encode:\n",
    "df1['airbag'].replace({'none':0,'airbag':1},inplace=True)"
   ]
  },
  {
   "cell_type": "code",
   "execution_count": 66,
   "metadata": {},
   "outputs": [],
   "source": [
    "# only 2 categories in seatbelt feature,again,so we can label encode or manually encode:\n",
    "df1['seatbelt'].replace({'none':0,'belted':1},inplace=True)"
   ]
  },
  {
   "cell_type": "code",
   "execution_count": 69,
   "metadata": {},
   "outputs": [],
   "source": [
    "# only 2 categories in sex feature,again,so we can label encode or manually encode:\n",
    "df1['sex'].replace({'f':0,'m':1},inplace=True)"
   ]
  },
  {
   "cell_type": "code",
   "execution_count": 73,
   "metadata": {},
   "outputs": [],
   "source": [
    "# we will try with age category as it is for the 1st time,check accuracy then see if it makes any difference \n",
    "# by grouping people agewise"
   ]
  },
  {
   "cell_type": "code",
   "execution_count": 76,
   "metadata": {},
   "outputs": [],
   "source": [
    "# year has nothing to do with how accidents happen,so,we will drop it in 1st part.\n",
    "# later keeping it we will check\n",
    "\n",
    "\n",
    "# year of vehicle,we will keep it,this is because if the car model is very old and is not maintained \n",
    "# properly,there is strong possibilty that it will crash,so we will keep it as it is\n",
    "# 2nd time we will try with grouping them car age wise and compare it with year it crashed,so we will\n",
    "# get an idea when exactly did car crash,so was it because of car was old and not maintained properly?"
   ]
  },
  {
   "cell_type": "code",
   "execution_count": 79,
   "metadata": {},
   "outputs": [],
   "source": [
    "# 3 classes,airbags deployed or not / unavailable\n",
    "df1['abcat'].replace({'unavail':0,'nodeploy':1,'deploy':2},inplace=True)"
   ]
  },
  {
   "cell_type": "code",
   "execution_count": 82,
   "metadata": {},
   "outputs": [],
   "source": [
    "# only 2 categories in sex feature,again,so we can label encode or manually encode:\n",
    "# we will consider driver as driver with no pass,so 0 and pass as 1\n",
    "df1['occRole'].replace({'driver':0,'pass':1},inplace=True)"
   ]
  },
  {
   "cell_type": "code",
   "execution_count": 88,
   "metadata": {},
   "outputs": [],
   "source": [
    "df1.drop('caseid',axis=1,inplace=True)\n",
    "\n",
    "df1.drop('yearacc',axis=1,inplace=True)"
   ]
  },
  {
   "cell_type": "markdown",
   "metadata": {},
   "source": [
    "### Splitting the data:"
   ]
  },
  {
   "cell_type": "code",
   "execution_count": 93,
   "metadata": {},
   "outputs": [],
   "source": [
    "X=df1.drop('injSeverity',1)\n",
    "y=df1['injSeverity']\n",
    "X_train, X_test, y_train, y_test = train_test_split(X,y, test_size = 0.2, random_state =0)"
   ]
  },
  {
   "cell_type": "code",
   "execution_count": 107,
   "metadata": {},
   "outputs": [
    {
     "name": "stdout",
     "output_type": "stream",
     "text": [
      "{'min_samples_leaf': 21, 'max_depth': 6, 'criterion': 'gini'}\n"
     ]
    }
   ],
   "source": [
    "X=df1.drop('injSeverity',1)\n",
    "y=df1['injSeverity']\n",
    "X_train, X_test, y_train, y_test = train_test_split(X,y, test_size = 0.2, random_state =0)\n",
    "from sklearn.model_selection import GridSearchCV,RandomizedSearchCV\n",
    "dt = DecisionTreeClassifier()\n",
    "dt_params = {'max_depth':np.arange(1,10), 'min_samples_leaf':np.arange(2,30), 'criterion':['entropy','gini']}\n",
    "rscv = RandomizedSearchCV(dt, dt_params, cv=5)\n",
    "rscv.fit(X, y)\n",
    "print(rscv.best_params_)\n",
    "rscv_best_DT=rscv.best_params_\n",
    "DT=DecisionTreeClassifier(**rscv_best_DT)\n",
    "DT.fit(X_train,y_train)\n",
    "y_pred=DT.predict(X_test)\n",
    "y_pred_proba=DT.predict_proba(X_test)[:,1]\n",
    "#{'min_samples_leaf': 21, 'max_depth': 6, 'criterion': 'gini'}"
   ]
  },
  {
   "cell_type": "code",
   "execution_count": 131,
   "metadata": {},
   "outputs": [],
   "source": [
    "# pd.Series(y_pred,name='ypred')"
   ]
  },
  {
   "cell_type": "markdown",
   "metadata": {},
   "source": [
    "#### Test data manipulations:"
   ]
  },
  {
   "cell_type": "code",
   "execution_count": 173,
   "metadata": {},
   "outputs": [],
   "source": [
    "dfte=pd.read_csv('D:/GLH/test-new.csv')\n",
    "df2=dfte.copy()\n",
    "# df2.dropna(inplace=True)"
   ]
  },
  {
   "cell_type": "code",
   "execution_count": 177,
   "metadata": {},
   "outputs": [],
   "source": [
    "df2['yearVeh'].fillna(1995,inplace=True) # most frequent value"
   ]
  },
  {
   "cell_type": "code",
   "execution_count": 174,
   "metadata": {},
   "outputs": [],
   "source": [
    "df2['dvcat'].replace({'1-9km/h':1,'10-24':2,'25-39':3,\n",
    "                      '40-54':4,\n",
    "                     '55+':5},inplace=True)\n",
    "df2['dead'].replace({'dead':0,'alive':1},inplace=True)\n",
    "df2['airbag'].replace({'none':0,'airbag':1},inplace=True)\n",
    "df2['seatbelt'].replace({'none':0,'belted':1},inplace=True)\n",
    "df2['sex'].replace({'f':0,'m':1},inplace=True)\n",
    "df2['abcat'].replace({'unavail':0,'nodeploy':1,'deploy':2},inplace=True)\n",
    "df2['occRole'].replace({'driver':0,'pass':1},inplace=True)\n",
    "df2.drop('caseid',axis=1,inplace=True)\n",
    "df2.drop('yearacc',axis=1,inplace=True)"
   ]
  },
  {
   "cell_type": "code",
   "execution_count": 178,
   "metadata": {},
   "outputs": [
    {
     "data": {
      "text/plain": [
       "(8652, 12)"
      ]
     },
     "execution_count": 178,
     "metadata": {},
     "output_type": "execute_result"
    }
   ],
   "source": [
    "df2.shape"
   ]
  },
  {
   "cell_type": "markdown",
   "metadata": {},
   "source": [
    "## Logistic Regression:"
   ]
  },
  {
   "cell_type": "code",
   "execution_count": 179,
   "metadata": {},
   "outputs": [],
   "source": [
    "lr=LogisticRegression()\n",
    "lr.fit(X,y)\n",
    "y_test_pred_lr=lr.predict(df2)\n",
    "finalpred=pd.DataFrame(y_test_pred_lr,columns=['injSeverity'])\n",
    "finalpred.to_csv(\"D:\\GLH\\predictions\\lrpred.csv\",index=False)"
   ]
  },
  {
   "cell_type": "markdown",
   "metadata": {},
   "source": [
    "## DT classifier:"
   ]
  },
  {
   "cell_type": "code",
   "execution_count": 180,
   "metadata": {},
   "outputs": [],
   "source": [
    "X=df1.drop('injSeverity',1)\n",
    "y=df1['injSeverity']\n",
    "DT.fit(X,y)\n",
    "y_test_pred_lr=DT.predict(df2)\n",
    "finalpred=pd.DataFrame(y_test_pred_lr,columns=['injSeverity'])\n",
    "finalpred.to_csv(\"D:\\GLH\\predictions\\dtpred.csv\",index=False)"
   ]
  },
  {
   "cell_type": "markdown",
   "metadata": {},
   "source": [
    "# RF classifier:"
   ]
  },
  {
   "cell_type": "code",
   "execution_count": 183,
   "metadata": {},
   "outputs": [],
   "source": [
    "RF=RandomForestClassifier()\n",
    "RF.fit(X,y)\n",
    "y_test_pred_RF=DT.predict(df2)\n",
    "finalpred=pd.DataFrame(y_test_pred_RF,columns=['injSeverity'])\n",
    "finalpred.to_csv(\"D:\\GLH\\predictions\\RFpred.csv\",index=False)"
   ]
  },
  {
   "cell_type": "markdown",
   "metadata": {},
   "source": [
    "# DT With param tuning [grid search]:"
   ]
  },
  {
   "cell_type": "code",
   "execution_count": 185,
   "metadata": {},
   "outputs": [
    {
     "name": "stdout",
     "output_type": "stream",
     "text": [
      "{'criterion': 'gini', 'max_depth': 6, 'min_samples_leaf': 7}\n"
     ]
    }
   ],
   "source": [
    "X=df1.drop('injSeverity',1)\n",
    "y=df1['injSeverity']\n",
    "X_train, X_test, y_train, y_test = train_test_split(X,y, test_size = 0.2, random_state =0)\n",
    "    from sklearn.model_selection import GridSearchCV,RandomizedSearchCV\n",
    "    dt = DecisionTreeClassifier()\n",
    "    dt_params = {'max_depth':np.arange(1,10), 'min_samples_leaf':np.arange(2,30), 'criterion':['entropy','gini']}\n",
    "    rscv = GridSearchCV(dt, dt_params, cv=5)\n",
    "    rscv.fit(X, y)\n",
    "    print(rscv.best_params_)\n",
    "rscv_best_DT=rscv.best_params_\n",
    "DT=DecisionTreeClassifier(**rscv_best_DT)\n",
    "\n",
    "X=df1.drop('injSeverity',1)\n",
    "y=df1['injSeverity']\n",
    "DT=DecisionTreeClassifier(**rscv_best_DT)\n",
    "DT.fit(X,y)\n",
    "y_test_pred_dt=DT.predict(df2)\n",
    "finalpred=pd.DataFrame(y_test_pred_dt,columns=['injSeverity'])\n",
    "finalpred.to_csv(\"D:\\GLH\\predictions\\dtpredparams.csv\",index=False)\n",
    "#{'criterion': 'gini', 'max_depth': 6, 'min_samples_leaf': 7} *50.56 score"
   ]
  },
  {
   "cell_type": "markdown",
   "metadata": {},
   "source": [
    "# RF Tuned[Randomized]:"
   ]
  },
  {
   "cell_type": "code",
   "execution_count": 189,
   "metadata": {},
   "outputs": [
    {
     "name": "stdout",
     "output_type": "stream",
     "text": [
      "{'n_estimators': 125, 'min_samples_split': 2, 'min_samples_leaf': 4, 'max_features': 'sqrt', 'max_depth': 10, 'bootstrap': False}\n"
     ]
    }
   ],
   "source": [
    "X=df1.drop('injSeverity',1)\n",
    "y=df1['injSeverity']\n",
    "RF=RandomForestClassifier()\n",
    "params={\n",
    " 'bootstrap': [True, False],\n",
    " 'max_depth': [10, 20, 30],\n",
    " 'max_features': ['auto', 'sqrt'],\n",
    " 'min_samples_leaf': [1, 2, 4],\n",
    " 'min_samples_split': [2, 5, 10],\n",
    " 'n_estimators': [10,30,50,100,125,150]\n",
    "}\n",
    "rscv = RandomizedSearchCV(RF, param_distributions=params, cv=5)\n",
    "rscv.fit(X, y)\n",
    "print(rscv.best_params_)\n",
    "rscv_best_RF=rscv.best_params_"
   ]
  },
  {
   "cell_type": "code",
   "execution_count": 191,
   "metadata": {},
   "outputs": [],
   "source": [
    "RF=RandomForestClassifier(**rscv_best_RF)\n",
    "RF.fit(X,y)\n",
    "y_test_pred_RF=RF.predict(df2)\n",
    "finalpred=pd.DataFrame(y_test_pred_RF,columns=['injSeverity'])\n",
    "finalpred.to_csv(\"D:\\GLH\\predictions\\RFpred_paramtuned.csv\",index=False)\n",
    "# 51.53 score on leaderboard with random param-\n",
    "#{'n_estimators': 125, 'min_samples_split': 2, 'min_samples_leaf': 4, 'max_features': 'sqrt', 'max_depth': 10, 'bootstrap': False}"
   ]
  },
  {
   "cell_type": "markdown",
   "metadata": {},
   "source": [
    "# XGB classifier:"
   ]
  },
  {
   "cell_type": "code",
   "execution_count": 200,
   "metadata": {},
   "outputs": [],
   "source": [
    "XGB=XGBClassifier()\n",
    "XGB.fit(X,y)\n",
    "y_test_pred_XGB=XGB.predict(df2)\n",
    "finalpred=pd.DataFrame(y_test_pred_XGB,columns=['injSeverity'])\n",
    "finalpred.to_csv(\"D:\\GLH\\predictions\\XGB.csv\",index=False)\n",
    "\n",
    "## 51.61 best score so far."
   ]
  },
  {
   "cell_type": "markdown",
   "metadata": {},
   "source": [
    "# Randomized XGB:"
   ]
  },
  {
   "cell_type": "code",
   "execution_count": 202,
   "metadata": {},
   "outputs": [
    {
     "name": "stdout",
     "output_type": "stream",
     "text": [
      "{'n_estimators': 50, 'min_samples_split': 2, 'min_samples_leaf': 2, 'max_features': 'auto', 'max_depth': 10, 'bootstrap': True}\n"
     ]
    }
   ],
   "source": [
    "X=df1.drop('injSeverity',1)\n",
    "y=df1['injSeverity']\n",
    "XGB=XGBClassifier()\n",
    "params={\n",
    " 'bootstrap': [True, False],\n",
    " 'max_depth': [10, 20, 30],\n",
    " 'max_features': ['auto', 'sqrt'],\n",
    " 'min_samples_leaf': [1, 2, 4],\n",
    " 'min_samples_split': [2, 5, 10],\n",
    " 'n_estimators': [10,30,50,100,125,150]\n",
    "}\n",
    "rscv = RandomizedSearchCV(XGB, param_distributions=params, cv=5)\n",
    "rscv.fit(X, y)\n",
    "print(rscv.best_params_)\n",
    "rscv_best_XGB=rscv.best_params_\n",
    "\n",
    "##{'n_estimators': 50, 'min_samples_split': 2,'min_samples_leaf': 2, 'max_features': 'auto', 'max_depth': 10, 'bootstrap': True}"
   ]
  },
  {
   "cell_type": "code",
   "execution_count": 203,
   "metadata": {},
   "outputs": [],
   "source": [
    "XGB=XGBClassifier(**rscv_best_XGB)\n",
    "XGB.fit(X,y)\n",
    "y_test_pred_XGB=XGB.predict(df2)\n",
    "finalpred=pd.DataFrame(y_test_pred_XGB,columns=['injSeverity'])\n",
    "finalpred.to_csv(\"D:\\GLH\\predictions\\XGBrandomized.csv\",index=False)\n",
    "# This is not giving too good results -50.43"
   ]
  },
  {
   "cell_type": "markdown",
   "metadata": {},
   "source": [
    "# Train 1st data modification:"
   ]
  },
  {
   "cell_type": "code",
   "execution_count": 244,
   "metadata": {},
   "outputs": [],
   "source": [
    "df3=df.copy()"
   ]
  },
  {
   "cell_type": "code",
   "execution_count": 245,
   "metadata": {},
   "outputs": [],
   "source": [
    "df3['dvcat'].replace({'1-9km/h':1,'10-24':2,'25-39':3,\n",
    "                      '40-54':4,\n",
    "                     '55+':5},inplace=True)\n",
    "df3['dead'].replace({'dead':0,'alive':1},inplace=True)\n",
    "df3['airbag'].replace({'none':0,'airbag':1},inplace=True)\n",
    "df3['seatbelt'].replace({'none':0,'belted':1},inplace=True)\n",
    "df3['sex'].replace({'f':0,'m':1},inplace=True)\n",
    "df3['abcat'].replace({'unavail':0,'nodeploy':1,'deploy':2},inplace=True)\n",
    "df3['occRole'].replace({'driver':0,'pass':1},inplace=True)\n",
    "df3.drop('caseid',axis=1,inplace=True)\n",
    "# df3.drop('yearacc',axis=1,inplace=True)"
   ]
  },
  {
   "cell_type": "markdown",
   "metadata": {},
   "source": [
    "#### Feature creation yeargap:"
   ]
  },
  {
   "cell_type": "code",
   "execution_count": 246,
   "metadata": {},
   "outputs": [],
   "source": [
    "df3['yeargap']=df3['yearacc']-df3['yearVeh']"
   ]
  },
  {
   "cell_type": "code",
   "execution_count": 247,
   "metadata": {
    "scrolled": true
   },
   "outputs": [
    {
     "data": {
      "text/html": [
       "<div>\n",
       "<style scoped>\n",
       "    .dataframe tbody tr th:only-of-type {\n",
       "        vertical-align: middle;\n",
       "    }\n",
       "\n",
       "    .dataframe tbody tr th {\n",
       "        vertical-align: top;\n",
       "    }\n",
       "\n",
       "    .dataframe thead th {\n",
       "        text-align: right;\n",
       "    }\n",
       "</style>\n",
       "<table border=\"1\" class=\"dataframe\">\n",
       "  <thead>\n",
       "    <tr style=\"text-align: right;\">\n",
       "      <th></th>\n",
       "      <th>yeargap</th>\n",
       "      <th>yearVeh</th>\n",
       "      <th>yearacc</th>\n",
       "    </tr>\n",
       "  </thead>\n",
       "  <tbody>\n",
       "    <tr>\n",
       "      <th>yeargap</th>\n",
       "      <td>1.0</td>\n",
       "      <td>-0.952145</td>\n",
       "      <td>0.008692</td>\n",
       "    </tr>\n",
       "  </tbody>\n",
       "</table>\n",
       "</div>"
      ],
      "text/plain": [
       "         yeargap   yearVeh   yearacc\n",
       "yeargap      1.0 -0.952145  0.008692"
      ]
     },
     "execution_count": 247,
     "metadata": {},
     "output_type": "execute_result"
    }
   ],
   "source": [
    "df3.corr()[['yeargap','yearVeh','yearacc']].iloc[-1:,:]\n",
    "# High correlation with yearVeh"
   ]
  },
  {
   "cell_type": "code",
   "execution_count": 248,
   "metadata": {},
   "outputs": [],
   "source": [
    "df3.drop('yearVeh',axis=1,inplace=True)"
   ]
  },
  {
   "cell_type": "markdown",
   "metadata": {},
   "source": [
    "## Test 1st data modifications:"
   ]
  },
  {
   "cell_type": "code",
   "execution_count": 250,
   "metadata": {},
   "outputs": [],
   "source": [
    "dfte=pd.read_csv('D:/GLH/test-new.csv')\n",
    "df4=dfte.copy()\n",
    "# df4.dropna(inplace=True)\n",
    "df4['dvcat'].replace({'1-9km/h':1,'10-24':2,'25-39':3,\n",
    "                      '40-54':4,\n",
    "                     '55+':5},inplace=True)\n",
    "df4['dead'].replace({'dead':0,'alive':1},inplace=True)\n",
    "df4['airbag'].replace({'none':0,'airbag':1},inplace=True)\n",
    "df4['seatbelt'].replace({'none':0,'belted':1},inplace=True)\n",
    "df4['sex'].replace({'f':0,'m':1},inplace=True)\n",
    "df4['abcat'].replace({'unavail':0,'nodeploy':1,'deploy':2},inplace=True)\n",
    "df4['occRole'].replace({'driver':0,'pass':1},inplace=True)\n",
    "df4.drop('caseid',axis=1,inplace=True)\n",
    "# df4.drop('yearacc',axis=1,inplace=True)\n",
    "df4['yeargap']=df4['yearacc']-df4['yearVeh']\n",
    "df4.drop('yearVeh',axis=1,inplace=True)"
   ]
  },
  {
   "cell_type": "code",
   "execution_count": 251,
   "metadata": {},
   "outputs": [],
   "source": [
    "df4.fillna(1,inplace=True)"
   ]
  },
  {
   "cell_type": "markdown",
   "metadata": {},
   "source": [
    "#### Logistic Regression:"
   ]
  },
  {
   "cell_type": "code",
   "execution_count": 256,
   "metadata": {},
   "outputs": [],
   "source": [
    "X=df3.drop('injSeverity',1)\n",
    "y=df3['injSeverity']"
   ]
  },
  {
   "cell_type": "code",
   "execution_count": 262,
   "metadata": {},
   "outputs": [],
   "source": [
    "lr=LogisticRegression()\n",
    "lr.fit(X,y)\n",
    "y_test_pred_lr=lr.predict(df4)\n",
    "finalpred=pd.DataFrame(y_test_pred_lr,columns=['injSeverity'])\n",
    "finalpred.to_csv(\"D:\\GLH\\predictions\\lrpredmodif.csv\",index=False)\n",
    "# worst performance 42.53"
   ]
  },
  {
   "cell_type": "markdown",
   "metadata": {},
   "source": [
    "#### Decision Tree:"
   ]
  },
  {
   "cell_type": "code",
   "execution_count": 264,
   "metadata": {},
   "outputs": [
    {
     "name": "stdout",
     "output_type": "stream",
     "text": [
      "{'criterion': 'gini', 'max_depth': 6, 'min_samples_leaf': 8}\n"
     ]
    }
   ],
   "source": [
    "X=df3.drop('injSeverity',1)\n",
    "y=df3['injSeverity']\n",
    "X_train, X_test, y_train, y_test = train_test_split(X,y, test_size = 0.2, random_state =0)\n",
    "from sklearn.model_selection import GridSearchCV,RandomizedSearchCV\n",
    "dt = DecisionTreeClassifier()\n",
    "dt_params = {'max_depth':np.arange(1,10), 'min_samples_leaf':np.arange(2,30), 'criterion':['entropy','gini']}\n",
    "rscv = GridSearchCV(dt, dt_params, cv=5)\n",
    "rscv.fit(X, y)\n",
    "print(rscv.best_params_)\n",
    "rscv_best_DT=rscv.best_params_\n",
    "DT=DecisionTreeClassifier(**rscv_best_DT)\n",
    "DT.fit(X,y)\n",
    "y_test_pred_dt=DT.predict(df4)\n",
    "finalpred=pd.DataFrame(y_test_pred_dt,columns=['injSeverity'])\n",
    "finalpred.to_csv(\"D:\\GLH\\predictions\\dtmodifiedrandomized.csv\",index=False)\n",
    "\n",
    "## 50.56 on wecp using  {'criterion': 'gini', 'max_depth': 6, 'min_samples_leaf': 8}"
   ]
  },
  {
   "cell_type": "code",
   "execution_count": 266,
   "metadata": {},
   "outputs": [
    {
     "name": "stdout",
     "output_type": "stream",
     "text": [
      "{'n_estimators': 100, 'min_samples_split': 5, 'min_samples_leaf': 2, 'max_features': 'auto', 'max_depth': 10, 'bootstrap': False}\n"
     ]
    }
   ],
   "source": [
    "X=df3.drop('injSeverity',1)\n",
    "y=df3['injSeverity']\n",
    "RF=RandomForestClassifier()\n",
    "params={\n",
    " 'bootstrap': [True, False],\n",
    " 'max_depth': [10, 20, 30],\n",
    " 'max_features': ['auto', 'sqrt'],\n",
    " 'min_samples_leaf': [1, 2, 4],\n",
    " 'min_samples_split': [2, 5, 10],\n",
    " 'n_estimators': [10,30,50,100,125,150]\n",
    "}\n",
    "rscv = RandomizedSearchCV(RF, param_distributions=params, cv=5)\n",
    "rscv.fit(X, y)\n",
    "print(rscv.best_params_)\n",
    "rscv_best_RF=rscv.best_params_\n",
    "# {'n_estimators': 100, 'min_samples_split': 5, 'min_samples_leaf': 2, 'max_features': 'auto', 'max_depth': 10, 'bootstrap': False}"
   ]
  },
  {
   "cell_type": "code",
   "execution_count": 267,
   "metadata": {},
   "outputs": [],
   "source": [
    "RF=RandomForestClassifier(**rscv_best_RF)\n",
    "RF.fit(X,y)\n",
    "y_test_pred_RF=RF.predict(df4)\n",
    "finalpred=pd.DataFrame(y_test_pred_RF,columns=['injSeverity'])\n",
    "finalpred.to_csv(\"D:\\GLH\\predictions\\modifieddataRf.csv\",index=False)\n",
    "#score on leaderboard with random param-51.58\n",
    "#{'n_estimators': 100, 'min_samples_split': 5, 'min_samples_leaf': 2, 'max_features': 'auto', 'max_depth': 10, 'bootstrap': False}"
   ]
  },
  {
   "cell_type": "markdown",
   "metadata": {},
   "source": [
    "#### XGB classifier:[best combination]: "
   ]
  },
  {
   "cell_type": "code",
   "execution_count": 270,
   "metadata": {},
   "outputs": [],
   "source": [
    "XGB=XGBClassifier()\n",
    "XGB.fit(X,y)\n",
    "y_test_pred_XGB=XGB.predict(df4)\n",
    "finalpred=pd.DataFrame(y_test_pred_XGB,columns=['injSeverity'])\n",
    "finalpred.to_csv(\"D:/GLH/predictions/afterdatamodficationXGB.csv\",index=False)\n",
    "## 51.66 best one so far!"
   ]
  },
  {
   "cell_type": "markdown",
   "metadata": {},
   "source": [
    "#### XGB with randomized data modified:"
   ]
  },
  {
   "cell_type": "code",
   "execution_count": 273,
   "metadata": {},
   "outputs": [
    {
     "name": "stdout",
     "output_type": "stream",
     "text": [
      "{'n_estimators': 50, 'min_samples_split': 7, 'min_samples_leaf': 2, 'max_features': 'sqrt', 'max_depth': 10, 'bootstrap': True}\n"
     ]
    }
   ],
   "source": [
    "X=df3.drop('injSeverity',1)\n",
    "y=df3['injSeverity']\n",
    "XGB=XGBClassifier()\n",
    "params={\n",
    " 'bootstrap': [True, False],\n",
    " 'max_depth': [10, 20],\n",
    " 'max_features': ['auto', 'sqrt'],\n",
    " 'min_samples_leaf': [1, 2, 4],\n",
    " 'min_samples_split': [2, 5, 7],\n",
    " 'n_estimators': [10,30,50]\n",
    "}\n",
    "rscv = RandomizedSearchCV(XGB, param_distributions=params, cv=5)\n",
    "rscv.fit(X, y)\n",
    "print(rscv.best_params_)\n",
    "rscv_best_XGB=rscv.best_params_\n",
    "\n",
    "#{'n_estimators': 50, 'min_samples_split': 7, 'min_samples_leaf': 2, 'max_features': 'sqrt', 'max_depth': 10, 'bootstrap': True}"
   ]
  },
  {
   "cell_type": "code",
   "execution_count": 274,
   "metadata": {},
   "outputs": [],
   "source": [
    "XGB=XGBClassifier(**rscv_best_XGB)\n",
    "XGB.fit(X,y)\n",
    "y_test_pred_XGB=XGB.predict(df4)\n",
    "finalpred=pd.DataFrame(y_test_pred_XGB,columns=['injSeverity'])\n",
    "finalpred.to_csv(\"D:/GLH/predictions/randomizedafterdatamodficationXGB.csv\",index=False)\n",
    "# 50.82,not so good results!"
   ]
  },
  {
   "cell_type": "markdown",
   "metadata": {},
   "source": [
    "# 2nd data modification train:[combo of LE + get_dummies]"
   ]
  },
  {
   "cell_type": "code",
   "execution_count": 271,
   "metadata": {},
   "outputs": [],
   "source": [
    "df5=df.copy()"
   ]
  },
  {
   "cell_type": "code",
   "execution_count": 275,
   "metadata": {},
   "outputs": [],
   "source": [
    "# df5['dvcat'].replace({'1-9km/h':1,'10-24':2,'25-39':3,\n",
    "#                       '40-54':4,\n",
    "#                      '55+':5},inplace=True)\n",
    "df5['dead'].replace({'dead':0,'alive':1},inplace=True)\n",
    "df5['airbag'].replace({'none':0,'airbag':1},inplace=True)\n",
    "df5['seatbelt'].replace({'none':0,'belted':1},inplace=True)\n",
    "df5['sex'].replace({'f':0,'m':1},inplace=True)\n",
    "# df5['abcat'].replace({'unavail':0,'nodeploy':1,'deploy':2},inplace=True)\n",
    "df5['occRole'].replace({'driver':0,'pass':1},inplace=True)\n",
    "df5.drop('caseid',axis=1,inplace=True)\n",
    "df5['yeargap']=df5['yearacc']-df5['yearVeh']\n",
    "df5.drop('yearVeh',axis=1,inplace=True)"
   ]
  },
  {
   "cell_type": "code",
   "execution_count": 278,
   "metadata": {},
   "outputs": [],
   "source": [
    "df5=pd.get_dummies(df5,drop_first=True)"
   ]
  },
  {
   "cell_type": "markdown",
   "metadata": {},
   "source": [
    "# 2nd data modification for test file:[combo LE + get_dummies]"
   ]
  },
  {
   "cell_type": "code",
   "execution_count": 284,
   "metadata": {},
   "outputs": [],
   "source": [
    "dfte=pd.read_csv('D:/GLH/test-new.csv')\n",
    "df6=dfte.copy()\n",
    "# df6['dvcat'].replace({'1-9km/h':1,'10-24':2,'25-39':3,\n",
    "#                       '40-54':4,\n",
    "#                      '55+':5},inplace=True)\n",
    "df6['dead'].replace({'dead':0,'alive':1},inplace=True)\n",
    "df6['airbag'].replace({'none':0,'airbag':1},inplace=True)\n",
    "df6['seatbelt'].replace({'none':0,'belted':1},inplace=True)\n",
    "df6['sex'].replace({'f':0,'m':1},inplace=True)\n",
    "# df6['abcat'].replace({'unavail':0,'nodeploy':1,'deploy':2},inplace=True)\n",
    "df6['occRole'].replace({'driver':0,'pass':1},inplace=True)\n",
    "df6.drop('caseid',axis=1,inplace=True)\n",
    "# df6.drop('yearacc',axis=1,inplace=True)\n",
    "df6['yeargap']=df6['yearacc']-df6['yearVeh']\n",
    "df6.drop('yearVeh',axis=1,inplace=True)\n",
    "df6.fillna(1,inplace=True)"
   ]
  },
  {
   "cell_type": "code",
   "execution_count": 289,
   "metadata": {
    "scrolled": true
   },
   "outputs": [],
   "source": [
    "df6=pd.get_dummies(df6,drop_first=True)"
   ]
  },
  {
   "cell_type": "code",
   "execution_count": 290,
   "metadata": {},
   "outputs": [],
   "source": [
    "X=df5.drop('injSeverity',1)\n",
    "y=df5['injSeverity']"
   ]
  },
  {
   "cell_type": "markdown",
   "metadata": {},
   "source": [
    "#### Logistic regression:"
   ]
  },
  {
   "cell_type": "code",
   "execution_count": 291,
   "metadata": {},
   "outputs": [],
   "source": [
    "lr=LogisticRegression()\n",
    "lr.fit(X,y)\n",
    "y_test_pred_lr=lr.predict(df6)\n",
    "finalpred=pd.DataFrame(y_test_pred_lr,columns=['injSeverity'])\n",
    "finalpred.to_csv(\"D:\\GLH\\predictions\\lr2ndmodified.csv\",index=False)\n",
    "# 42.28"
   ]
  },
  {
   "cell_type": "markdown",
   "metadata": {},
   "source": [
    "#### Decision tree:"
   ]
  },
  {
   "cell_type": "code",
   "execution_count": 292,
   "metadata": {},
   "outputs": [
    {
     "name": "stdout",
     "output_type": "stream",
     "text": [
      "{'criterion': 'entropy', 'max_depth': 8, 'min_samples_leaf': 11}\n"
     ]
    }
   ],
   "source": [
    "X=df5.drop('injSeverity',1)\n",
    "y=df5['injSeverity']\n",
    "X_train, X_test, y_train, y_test = train_test_split(X,y, test_size = 0.2, random_state =0)\n",
    "from sklearn.model_selection import GridSearchCV,RandomizedSearchCV\n",
    "dt = DecisionTreeClassifier()\n",
    "dt_params = {'max_depth':np.arange(1,10), 'min_samples_leaf':np.arange(2,30), 'criterion':['entropy','gini']}\n",
    "rscv = GridSearchCV(dt, dt_params, cv=5)\n",
    "rscv.fit(X, y)\n",
    "print(rscv.best_params_)\n",
    "rscv_best_DT=rscv.best_params_\n",
    "DT=DecisionTreeClassifier(**rscv_best_DT)\n",
    "DT.fit(X,y)\n",
    "y_test_pred_dt=DT.predict(df6)\n",
    "finalpred=pd.DataFrame(y_test_pred_dt,columns=['injSeverity'])\n",
    "finalpred.to_csv(\"D:\\GLH\\predictions\\DT2ndgridsearch.csv\",index=False)\n",
    "#50.20"
   ]
  },
  {
   "cell_type": "markdown",
   "metadata": {},
   "source": [
    "#### Random Forest:"
   ]
  },
  {
   "cell_type": "code",
   "execution_count": 293,
   "metadata": {},
   "outputs": [
    {
     "name": "stdout",
     "output_type": "stream",
     "text": [
      "{'n_estimators': 125, 'min_samples_split': 10, 'min_samples_leaf': 2, 'max_features': 'auto', 'max_depth': 10, 'bootstrap': False}\n"
     ]
    }
   ],
   "source": [
    "X=df5.drop('injSeverity',1)\n",
    "y=df5['injSeverity']\n",
    "RF=RandomForestClassifier()\n",
    "params={\n",
    " 'bootstrap': [True, False],\n",
    " 'max_depth': [10, 20, 30],\n",
    " 'max_features': ['auto', 'sqrt'],\n",
    " 'min_samples_leaf': [1, 2, 4],\n",
    " 'min_samples_split': [2, 5, 10],\n",
    " 'n_estimators': [10,30,50,100,125]\n",
    "}\n",
    "rscv = RandomizedSearchCV(RF, param_distributions=params, cv=5)\n",
    "rscv.fit(X, y)\n",
    "print(rscv.best_params_)\n",
    "rscv_best_RF=rscv.best_params_"
   ]
  },
  {
   "cell_type": "code",
   "execution_count": 295,
   "metadata": {},
   "outputs": [],
   "source": [
    "RF=RandomForestClassifier(**rscv_best_RF)\n",
    "RF.fit(X,y)\n",
    "y_test_pred_RF=RF.predict(df6)\n",
    "finalpred=pd.DataFrame(y_test_pred_RF,columns=['injSeverity'])\n",
    "finalpred.to_csv(\"D:/GLH/predictions/2ndmodifieddatarandomizedrf.csv\",index=False)\n",
    "#51.53"
   ]
  },
  {
   "cell_type": "markdown",
   "metadata": {},
   "source": [
    "#### XGB without params:"
   ]
  },
  {
   "cell_type": "code",
   "execution_count": 296,
   "metadata": {},
   "outputs": [],
   "source": [
    "XGB=XGBClassifier()\n",
    "XGB.fit(X,y)\n",
    "y_test_pred_XGB=XGB.predict(df6)\n",
    "finalpred=pd.DataFrame(y_test_pred_XGB,columns=['injSeverity'])\n",
    "finalpred.to_csv(\"D:/GLH/predictions/2nddatamodficationXGB.csv\",index=False)\n",
    "## 51.25 best one so far!"
   ]
  },
  {
   "cell_type": "markdown",
   "metadata": {},
   "source": [
    "### XGB with params:[ for 1st data] best than the rest:"
   ]
  },
  {
   "cell_type": "code",
   "execution_count": 305,
   "metadata": {},
   "outputs": [],
   "source": [
    "X=df1.drop('injSeverity',1)\n",
    "y=df1['injSeverity']"
   ]
  },
  {
   "cell_type": "code",
   "execution_count": 308,
   "metadata": {},
   "outputs": [],
   "source": [
    "# params = {\"objective\": \"multi:softmax\",\"booster\": \"gbtree\", \"nthread\": 4, \"silent\": 1,\n",
    "#                 \"eta\": 0.08, \"max_depth\": 6, \"subsample\": 0.9, \"colsample_bytree\": 0.7,\n",
    "#                 \"min_child_weight\": 1, \"num_class\": 3,\n",
    "#                 \"seed\": 2016, \"tree_method\": \"exact\"}\n",
    "# Randomized param output"
   ]
  },
  {
   "cell_type": "code",
   "execution_count": 307,
   "metadata": {},
   "outputs": [],
   "source": [
    "XGB=XGBClassifier(**params)\n",
    "XGB.fit(X,y)\n",
    "y_test_pred_XGB=XGB.predict(df2)\n",
    "finalpred=pd.DataFrame(y_test_pred_XGB,columns=['injSeverity'])\n",
    "finalpred.to_csv(\"D:/GLH/predictions/2nddatamodficationXGB3rd.csv\",index=False)\n",
    "## 51.99 score "
   ]
  },
  {
   "cell_type": "markdown",
   "metadata": {},
   "source": [
    "## Ignore b/m part"
   ]
  },
  {
   "cell_type": "code",
   "execution_count": 310,
   "metadata": {},
   "outputs": [],
   "source": [
    "XGB=XGBClassifier(learning_rate=0.09,n_estimators=125,max_depth=4,min_child_weight=4,colsample_bytree=0.5,reg_alpha=0.000001 )\n",
    "XGB.fit(X,y)\n",
    "y_test_pred_XGB=XGB.predict(df2)\n",
    "finalpred=pd.DataFrame(y_test_pred_XGB,columns=['injSeverity'])\n",
    "finalpred.to_csv(\"D:/GLH/predictions/1stdiffparamXGB.csv\",index=False)\n",
    "# 51.76"
   ]
  },
  {
   "cell_type": "code",
   "execution_count": 314,
   "metadata": {},
   "outputs": [],
   "source": [
    "X=df3.drop('injSeverity',1)\n",
    "y=df3['injSeverity']\n",
    "XGB=XGBClassifier(learning_rate=0.09,n_estimators=125,max_depth=4,min_child_weight=4,colsample_bytree=0.5,reg_alpha=0.000001)\n",
    "XGB.fit(X,y)\n",
    "y_test_pred_XGB=XGB.predict(df4)\n",
    "finalpred=pd.DataFrame(y_test_pred_XGB,columns=['injSeverity'])\n",
    "finalpred.to_csv(\"D:/GLH/predictions/2nddiffparamXGB.csv\",index=False)\n",
    "#51.86"
   ]
  },
  {
   "cell_type": "code",
   "execution_count": 315,
   "metadata": {},
   "outputs": [],
   "source": [
    "X=df5.drop('injSeverity',1)\n",
    "y=df5['injSeverity']\n",
    "XGB=XGBClassifier(learning_rate=0.09,n_estimators=125,max_depth=4,min_child_weight=4,colsample_bytree=0.5,reg_alpha=0.000001)\n",
    "XGB.fit(X,y)\n",
    "y_test_pred_XGB=XGB.predict(df6)\n",
    "finalpred=pd.DataFrame(y_test_pred_XGB,columns=['injSeverity'])\n",
    "finalpred.to_csv(\"D:/GLH/predictions/3rddiffparamXGB.csv\",index=False)\n",
    "#51.43"
   ]
  },
  {
   "cell_type": "code",
   "execution_count": null,
   "metadata": {},
   "outputs": [],
   "source": []
  }
 ],
 "metadata": {
  "kernelspec": {
   "display_name": "Python 3",
   "language": "python",
   "name": "python3"
  },
  "language_info": {
   "codemirror_mode": {
    "name": "ipython",
    "version": 3
   },
   "file_extension": ".py",
   "mimetype": "text/x-python",
   "name": "python",
   "nbconvert_exporter": "python",
   "pygments_lexer": "ipython3",
   "version": "3.6.4"
  }
 },
 "nbformat": 4,
 "nbformat_minor": 2
}
